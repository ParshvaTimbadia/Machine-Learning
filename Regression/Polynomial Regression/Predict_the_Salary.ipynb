{
  "nbformat": 4,
  "nbformat_minor": 0,
  "metadata": {
    "colab": {
      "name": "Predict_the_Salary.ipynb",
      "provenance": []
    },
    "kernelspec": {
      "name": "python3",
      "display_name": "Python 3"
    }
  },
  "cells": [
    {
      "cell_type": "markdown",
      "metadata": {
        "id": "_4JUbyoghGRE",
        "colab_type": "text"
      },
      "source": [
        "**Importing the Libraries**"
      ]
    },
    {
      "cell_type": "code",
      "metadata": {
        "id": "GQ3EBqQzhHDZ",
        "colab_type": "code",
        "colab": {}
      },
      "source": [
        "import numpy as np\n",
        "import matplotlib.pyplot as plt\n",
        "import pandas as pd"
      ],
      "execution_count": 0,
      "outputs": []
    },
    {
      "cell_type": "markdown",
      "metadata": {
        "id": "HIjK-xe6hKvm",
        "colab_type": "text"
      },
      "source": [
        "**Import DataSet** "
      ]
    },
    {
      "cell_type": "code",
      "metadata": {
        "id": "3YaHjGzohRp5",
        "colab_type": "code",
        "colab": {
          "base_uri": "https://localhost:8080/",
          "height": 221
        },
        "outputId": "78211249-b6bf-4f26-cef5-5795048ed51b"
      },
      "source": [
        "dataset= pd.read_csv(\"Position_Salaries.csv\")\n",
        "x= dataset.iloc[:, 1:-1].values\n",
        "y= dataset.iloc[:, -1].values\n",
        "\n",
        "print (x)\n",
        "print(y)"
      ],
      "execution_count": 3,
      "outputs": [
        {
          "output_type": "stream",
          "text": [
            "[[ 1]\n",
            " [ 2]\n",
            " [ 3]\n",
            " [ 4]\n",
            " [ 5]\n",
            " [ 6]\n",
            " [ 7]\n",
            " [ 8]\n",
            " [ 9]\n",
            " [10]]\n",
            "[  45000   50000   60000   80000  110000  150000  200000  300000  500000\n",
            " 1000000]\n"
          ],
          "name": "stdout"
        }
      ]
    },
    {
      "cell_type": "markdown",
      "metadata": {
        "id": "2pJo9-uqirYs",
        "colab_type": "text"
      },
      "source": [
        "**Training using Linear Regression**"
      ]
    },
    {
      "cell_type": "code",
      "metadata": {
        "id": "6gB73vCmi7ty",
        "colab_type": "code",
        "colab": {
          "base_uri": "https://localhost:8080/",
          "height": 34
        },
        "outputId": "90e2a7b7-b047-4713-f25d-231aed972da0"
      },
      "source": [
        "from sklearn.linear_model import LinearRegression\n",
        "regressor_linear = LinearRegression()\n",
        "regressor_linear.fit(x,y)\n"
      ],
      "execution_count": 4,
      "outputs": [
        {
          "output_type": "execute_result",
          "data": {
            "text/plain": [
              "LinearRegression(copy_X=True, fit_intercept=True, n_jobs=None, normalize=False)"
            ]
          },
          "metadata": {
            "tags": []
          },
          "execution_count": 4
        }
      ]
    },
    {
      "cell_type": "markdown",
      "metadata": {
        "id": "0XUAuzmAkIwj",
        "colab_type": "text"
      },
      "source": [
        "**Training using Polynomial Regression Model**"
      ]
    },
    {
      "cell_type": "code",
      "metadata": {
        "id": "H3CE-hh5kObU",
        "colab_type": "code",
        "colab": {
          "base_uri": "https://localhost:8080/",
          "height": 34
        },
        "outputId": "8000c369-21ca-49b1-8f91-064b7a1cfcfd"
      },
      "source": [
        "from sklearn.preprocessing import PolynomialFeatures\n",
        "regressor_poly = PolynomialFeatures(degree=4)\n",
        "x_poly =regressor_poly.fit_transform(x)\n",
        "regressor_linear_2 = LinearRegression()\n",
        "regressor_linear_2.fit(x_poly, y)\n",
        "\n",
        "\n"
      ],
      "execution_count": 19,
      "outputs": [
        {
          "output_type": "execute_result",
          "data": {
            "text/plain": [
              "LinearRegression(copy_X=True, fit_intercept=True, n_jobs=None, normalize=False)"
            ]
          },
          "metadata": {
            "tags": []
          },
          "execution_count": 19
        }
      ]
    },
    {
      "cell_type": "markdown",
      "metadata": {
        "id": "rWkPv4g5xvGM",
        "colab_type": "text"
      },
      "source": [
        "**Visualsing the Linear Regression**"
      ]
    },
    {
      "cell_type": "code",
      "metadata": {
        "id": "xtbREYTyx3Q8",
        "colab_type": "code",
        "colab": {
          "base_uri": "https://localhost:8080/",
          "height": 312
        },
        "outputId": "8b9d8deb-4baa-4a1f-99a4-6bd3f304f980"
      },
      "source": [
        "plt.scatter(x,y, color='red')\n",
        "plt.plot(x, regressor_linear.predict(x), color='blue')\n",
        "plt.title('Linear Model')\n",
        "plt.xlabel(\"Level\")\n",
        "plt.ylabel(\"Salary\")"
      ],
      "execution_count": 12,
      "outputs": [
        {
          "output_type": "execute_result",
          "data": {
            "text/plain": [
              "Text(0, 0.5, 'Salary')"
            ]
          },
          "metadata": {
            "tags": []
          },
          "execution_count": 12
        },
        {
          "output_type": "display_data",
          "data": {
            "image/png": "[encoded data removed]",
            "text/plain": [
              "<Figure size 432x288 with 1 Axes>"
            ]
          },
          "metadata": {
            "tags": [],
            "needs_background": "light"
          }
        }
      ]
    },
    {
      "cell_type": "markdown",
      "metadata": {
        "id": "N7nu0ZKYzUXl",
        "colab_type": "text"
      },
      "source": [
        "**Visualising the Polynomial Regression Result**"
      ]
    },
    {
      "cell_type": "code",
      "metadata": {
        "id": "yqIaipXpzhf_",
        "colab_type": "code",
        "colab": {
          "base_uri": "https://localhost:8080/",
          "height": 312
        },
        "outputId": "df29ce43-1cfd-4982-d3ba-2c08f01b7cf2"
      },
      "source": [
        "plt.scatter(x,y, color='red')\n",
        "plt.plot(x, regressor_linear_2.predict(x_poly), color='blue')\n",
        "plt.title('Linear Model')\n",
        "plt.xlabel(\"Level\")\n",
        "plt.ylabel(\"Salary\")"
      ],
      "execution_count": 18,
      "outputs": [
        {
          "output_type": "execute_result",
          "data": {
            "text/plain": [
              "Text(0, 0.5, 'Salary')"
            ]
          },
          "metadata": {
            "tags": []
          },
          "execution_count": 18
        },
        {
          "output_type": "display_data",
          "data": {
            "image/png": "[encoded data removed]",
            "text/plain": [
              "<Figure size 432x288 with 1 Axes>"
            ]
          },
          "metadata": {
            "tags": [],
            "needs_background": "light"
          }
        }
      ]
    },
    {
      "cell_type": "markdown",
      "metadata": {
        "id": "hW37OuAP3Scx",
        "colab_type": "text"
      },
      "source": [
        "Predicting the Salary with Linear Regression "
      ]
    },
    {
      "cell_type": "code",
      "metadata": {
        "id": "KrspLDjD3ac-",
        "colab_type": "code",
        "colab": {
          "base_uri": "https://localhost:8080/",
          "height": 34
        },
        "outputId": "af599727-7dd2-43d5-b4b0-8e30ccfe9fac"
      },
      "source": [
        "regressor_linear.predict([[6.5]])"
      ],
      "execution_count": 24,
      "outputs": [
        {
          "output_type": "execute_result",
          "data": {
            "text/plain": [
              "array([330378.78787879])"
            ]
          },
          "metadata": {
            "tags": []
          },
          "execution_count": 24
        }
      ]
    },
    {
      "cell_type": "markdown",
      "metadata": {
        "id": "C6Xkajlm3a1Z",
        "colab_type": "text"
      },
      "source": [
        "Predicting the Salary with Polynomial Regression"
      ]
    },
    {
      "cell_type": "code",
      "metadata": {
        "id": "J8rSM2de7Ma7",
        "colab_type": "code",
        "colab": {
          "base_uri": "https://localhost:8080/",
          "height": 34
        },
        "outputId": "e0b140a7-9b70-4f50-842d-d33aed109d52"
      },
      "source": [
        "regressor_linear_2.predict(regressor_poly.fit_transform([[6.5]]))"
      ],
      "execution_count": 27,
      "outputs": [
        {
          "output_type": "execute_result",
          "data": {
            "text/plain": [
              "array([158862.45265155])"
            ]
          },
          "metadata": {
            "tags": []
          },
          "execution_count": 27
        }
      ]
    }
  ]
}